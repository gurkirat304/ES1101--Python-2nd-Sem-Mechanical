{
 "cells": [
  {
   "cell_type": "code",
   "execution_count": null,
   "metadata": {},
   "outputs": [],
   "source": [
    "#Q1             SID-21107052\n",
    "#python program for reverse string using loops\n",
    "#asking user for input string\n",
    "input_str=input(\"enter string: \")\n",
    "#defining new string\n",
    "new_string=\"\"\n",
    "#using for loop which starts picking letter from last till first letter\n",
    "for i in range(len(input_str)-1,-1,-1):\n",
    "    letter=input_str[i]\n",
    "    new_string+=letter\n",
    "print(new_string)"
   ]
  },
  {
   "cell_type": "code",
   "execution_count": null,
   "metadata": {},
   "outputs": [],
   "source": [
    "#Q2             SID-21107052\n",
    "#python program for finding numbers divisible in given range\n",
    "#asking user for number\n",
    "num=int(input(\"enter number : \"))\n",
    "#asking for input range as upper and lower limits\n",
    "ll,ul=map(int,input(\"enter range: \").split())\n",
    "#using for loop for going through all values\n",
    "for i in range(ll,ul):\n",
    "    if i%num==0:\n",
    "        print(i)"
   ]
  },
  {
   "cell_type": "code",
   "execution_count": null,
   "metadata": {},
   "outputs": [],
   "source": [
    "#Q3             SID-21107052\n",
    "#python program for finding area using heron's formula\n",
    "#importing math library\n",
    "import math\n",
    "#asking user for side lengths\n",
    "side1=int(input(\"enter 1st side : \"))\n",
    "side2=int(input(\"enter 2nd side : \"))\n",
    "side3=int(input(\"enter 3rd side : \"))\n",
    "#checking if triangle can be formed\n",
    "if side1<(side2+side3) and side2<(side1+side3) and side3<(side1+side2):\n",
    "    s=(side1+side2+side3)/2\n",
    "    #calculating area using formula\n",
    "    area=math.sqrt(s*(s-side1)*(s-side2)*(s-side3))\n",
    "    print(\"area=\" , area)"
   ]
  },
  {
   "cell_type": "code",
   "execution_count": null,
   "metadata": {},
   "outputs": [],
   "source": [
    "#Q4             SID-21107052\n",
    "#python program for printing a given triangle\n",
    "#assigning * to a variable which can later be multiplied\n",
    "a=\"* \"\n",
    "#using for loops for getting required muliplier for variable\n",
    "for i in range(0,6):\n",
    "    print(i*a)\n",
    "for z in range(4,0,-1):\n",
    "    print(z*a)"
   ]
  },
  {
   "cell_type": "code",
   "execution_count": null,
   "metadata": {},
   "outputs": [],
   "source": [
    "#Q5             SID-21107052\n",
    "#python program to print a triangular pattern of the alphabet\n",
    "#asking user for input the no. of rows\n",
    "l=int(input(\"enter number of rows: \"))\n",
    "#assignment english alphabet as a string\n",
    "alphabet=\"ABCDEFGHIJKLMNOPQRSTUVWXYZ\"\n",
    "#assigning some values required in loops\n",
    "i=1\n",
    "n=1\n",
    "#running while loop till no. of rows is needed\n",
    "while n<=l:\n",
    "    #assigning new string\n",
    "    final_string=\"\"\n",
    "    #using for loop to select letters from alphabet and add to new string\n",
    "    for x in range(i,i+n):\n",
    "        letter=alphabet[(x-1)%26]\n",
    "        final_string=final_string+letter\n",
    "    print(final_string)\n",
    "    i=i+n\n",
    "    n += 1"
   ]
  },
  {
   "cell_type": "code",
   "execution_count": null,
   "metadata": {},
   "outputs": [],
   "source": [
    "#Q6             SID-21107052\n",
    "#python program to print prime numbers in given range\n",
    "#asking user for range as input in lower and upper limit\n",
    "ll,ul=map(int,input(\"enter range: \").split())\n",
    "#using a list for collecting all those prime numbers\n",
    "mylist=[]\n",
    "# using for loops to check the divisiblity\n",
    "for i in range(ll,ul):\n",
    "    for n in range(2,i):\n",
    "        #using condition that if a number has a factor then loop breaks and new number is checked\n",
    "        if i%n ==0:\n",
    "            break\n",
    "    # if no factor is found then the no. is added to the list\n",
    "    else:\n",
    "        mylist.append(i)\n",
    "#printing the prime no.s\n",
    "print(\"prime numbers=\", *mylist)"
   ]
  },
  {
   "cell_type": "code",
   "execution_count": null,
   "metadata": {},
   "outputs": [],
   "source": [
    "#Q7             SID-21107052\n",
    "#python program to print numbers multiple of 7 and divisible by 11\n",
    "#using for loop to check numbers till 500\n",
    "for i in range(1,500):\n",
    "    #the number has to be divisible by 77 to satisfy the conditions\n",
    "    if i%77==0:\n",
    "        print(i)"
   ]
  },
  {
   "cell_type": "code",
   "execution_count": null,
   "metadata": {},
   "outputs": [],
   "source": [
    "#Q8             SID-21107052\n",
    "#python program to print required set of numbers\n",
    "#defining lists and dictionaries for respective requirments\n",
    "postive_numbers=[]\n",
    "negative_numbers=[]\n",
    "odd_numbers=[]\n",
    "even_numbers=[]\n",
    "mode={}\n",
    "#using while loop for taking input\n",
    "i=1\n",
    "while i<=10:\n",
    "    a=int(input(\"enter number: \"))\n",
    "    #after input is taken all the conditions are checked \n",
    "    #if input satisfies that it is added to the respective list or dictionary\n",
    "    if a>0:\n",
    "        postive_numbers.append(a)\n",
    "    if a<0:\n",
    "        negative_numbers.append(a)\n",
    "    if a%2!=0:\n",
    "        odd_numbers.append(a)\n",
    "    if a%2==0:\n",
    "        even_numbers.append(a)\n",
    "    if a in mode:\n",
    "        mode[a]+=1\n",
    "    else:\n",
    "        mode[a]=1  \n",
    "    i+=1\n",
    "# the lists are printed     \n",
    "print(\"postive number:\" ,postive_numbers)\n",
    "print(\"negative numbers:\" ,negative_numbers)\n",
    "print(\"odd numbers:\" , odd_numbers)\n",
    "print(\"even numbers:\",even_numbers)\n",
    "print(\"no. of occurences:\" ,mode)"
   ]
  },
  {
   "cell_type": "code",
   "execution_count": null,
   "metadata": {},
   "outputs": [],
   "source": [
    "#Q9             SID-21107052\n",
    "#python program to count the number of occurrences of each word in the list\n",
    "#asking user for input list\n",
    "input_list=list(map(int,input().split()))\n",
    "#defining dictionary \n",
    "dict={}\n",
    "#using for loop to selecting list elements\n",
    "for i in range(0,len(input_list)):\n",
    "    #checking if the elemnet has already occured then ihe value for that key is increased by 1\n",
    "    if input_list[i] in dict:\n",
    "        dict[input_list[i]]+=1\n",
    "    #else the element is added as a new key with value 1 denoting 1st occurence\n",
    "    else:\n",
    "        dict[input_list[i]]=1\n",
    "#print dictionary\n",
    "print(dict)\n"
   ]
  }
 ],
 "metadata": {
  "interpreter": {
   "hash": "593daa7300361d99a4bb3caf0bf9a29c84e63c8f3b18ab6b74fa7d573278eaab"
  },
  "kernelspec": {
   "display_name": "Python 3.10.4 64-bit",
   "language": "python",
   "name": "python3"
  },
  "language_info": {
   "codemirror_mode": {
    "name": "ipython",
    "version": 3
   },
   "file_extension": ".py",
   "mimetype": "text/x-python",
   "name": "python",
   "nbconvert_exporter": "python",
   "pygments_lexer": "ipython3",
   "version": "3.10.4"
  },
  "orig_nbformat": 4
 },
 "nbformat": 4,
 "nbformat_minor": 2
}
