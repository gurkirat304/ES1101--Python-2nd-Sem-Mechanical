{
 "cells": [
  {
   "cell_type": "code",
   "execution_count": 2,
   "metadata": {},
   "outputs": [
    {
     "name": "stdout",
     "output_type": "stream",
     "text": [
      "35 in binary is  0b100011\n"
     ]
    }
   ],
   "source": [
    "#Q1         SID-21107052\n",
    "#python program to covert a decimal number to binary\n",
    "#asking user for decimal number input\n",
    "a=int(input(\"enter the no. : \"))\n",
    "\n",
    "#printing binary conversion using bin()\n",
    "print( a , \"in binary is \" , bin(a))"
   ]
  },
  {
   "cell_type": "code",
   "execution_count": 3,
   "metadata": {},
   "outputs": [
    {
     "name": "stdout",
     "output_type": "stream",
     "text": [
      "34+23-11=46\n"
     ]
    }
   ],
   "source": [
    "#Q2         SID-21107052\n",
    "#python program for evalutaing mathematical expression\n",
    "#asking user for input of expression\n",
    "expression=input(\"enter the expression : \")\n",
    "\n",
    "#printing result using eval function\n",
    "print(expression , eval(expression) , sep=\"=\")"
   ]
  },
  {
   "cell_type": "code",
   "execution_count": 4,
   "metadata": {},
   "outputs": [
    {
     "name": "stdout",
     "output_type": "stream",
     "text": [
      "(3+4)5 = 35\n",
      "n(n-1)/2 =  28.0\n",
      "for 'r' =  7 4pi*r^2 =  615.7521601035994\n",
      "for alpha = 1 for beta = 2\n",
      "value of sqrt(r_1(cos(alpha)^2) + r_1(sin(beta)^2)) =  3.501310684567612\n",
      "(y2-y1)/(x2-x1) = 4.0\n"
     ]
    }
   ],
   "source": [
    "#Q3         SID-21107052\n",
    "#python program to execute mathematical expressions\n",
    "#importing math library\n",
    "import math\n",
    "\n",
    "#a\n",
    "print(\"(3+4)5 =\" , (3+4)*5 )\n",
    "\n",
    "#b\n",
    "\n",
    "n=int(input(\"enter value of n : \"))\n",
    "print(\"n(n-1)/2 = \",(n*(n-1))/2)\n",
    "\n",
    "#c\n",
    "r=int(input(\"enter radius : \"))\n",
    "print(\"for 'r' = \" , r , \"4pi*r^2 = \" , 4*math.pi*(r**2))\n",
    "\n",
    "#d\n",
    "r_1=int(input(\"enter value of r :\"))\n",
    "a=int(input(\"enter alpha value : \"))\n",
    "b=int(input(\"enter beta value : \"))\n",
    "print(\"for alpha =\" , a , \"for beta =\" , b )\n",
    "print(\"value of sqrt(r_1(cos(alpha)^2) + r_1(sin(beta)^2)) = \" , math.sqrt(r_1*(math.cos(a*180/math.pi)**2)+(r_1*(math.sin(b*180/math.pi)**2))))\n",
    "\n",
    "#e\n",
    "y1=float(input(\"enter value of y1 : \"))\n",
    "y2=float(input(\"enter value of y2 : \"))\n",
    "x1=float(input(\"enter value of x1 : \"))\n",
    "x2=float(input(\"enter value of x2 : \"))\n",
    "ratio=(y2-y1)/(x2-x1)\n",
    "print(\"(y2-y1)/(x2-x1) =\" , + ratio)"
   ]
  },
  {
   "cell_type": "code",
   "execution_count": 5,
   "metadata": {},
   "outputs": [
    {
     "name": "stdout",
     "output_type": "stream",
     "text": [
      "01234\n",
      "\n",
      "3456789\n",
      "\n",
      "4710\n",
      "\n",
      "15131197\n",
      "\n"
     ]
    }
   ],
   "source": [
    "#Q4         SID-21107052\n",
    "#python program for printing the sequence of numbers in range\n",
    "#using for loop\n",
    "\n",
    "#a\n",
    "for a in range(5):\n",
    "    print(a ,  end=\"\" )\n",
    "print(\"\\n\")\n",
    "\n",
    "#b\n",
    "for b in range(3,10):\n",
    "    print(b , end=\"\")\n",
    "print(\"\\n\")\n",
    "\n",
    "#c\n",
    "for c in range(4,13,3):\n",
    "    print(c , end=\"\")\n",
    "print(\"\\n\")\n",
    "\n",
    "#d\n",
    "for d in range(15,5,-2):\n",
    "    print(d , end=\"\")\n",
    "\n",
    "#e\n",
    "print(\"\\n\")\n",
    "for e in range(5,3):\n",
    "    print(e, end=\"\")"
   ]
  },
  {
   "cell_type": "code",
   "execution_count": 6,
   "metadata": {},
   "outputs": [
    {
     "name": "stdout",
     "output_type": "stream",
     "text": [
      "total molecular weight of carbohydrate is 102.1317\n"
     ]
    }
   ],
   "source": [
    "#Q5         SID-21107052\n",
    "#python program for finding molecular weight of a carbohydrate\n",
    "#asking user for input of number of atoms in carbohydrate\n",
    "H_atoms=int(input(\"enter no. of hydrogen atoms : \"))\n",
    "C_atoms=int(input(\"enter no. of carbon atoms : \"))\n",
    "O_atoms=int(input(\"enter no. of oxygen atoms : \"))\n",
    "\n",
    "#finding total mass for each elements\n",
    "Oxygen_mass=(O_atoms*15.9994)\n",
    "Hydrogen_mass=(H_atoms*1.00794)\n",
    "Carbon_mass=(C_atoms*12.0107)\n",
    "\n",
    "#adding element's mass to get total mass of carbohydrate\n",
    "total_mass=Oxygen_mass+Hydrogen_mass+Carbon_mass\n",
    "\n",
    "#printing mass of carbohydrate\n",
    "print(\"total molecular weight of carbohydrate is\" , + total_mass)"
   ]
  }
 ],
 "metadata": {
  "interpreter": {
   "hash": "593daa7300361d99a4bb3caf0bf9a29c84e63c8f3b18ab6b74fa7d573278eaab"
  },
  "kernelspec": {
   "display_name": "Python 3.10.4 64-bit",
   "language": "python",
   "name": "python3"
  },
  "language_info": {
   "codemirror_mode": {
    "name": "ipython",
    "version": 3
   },
   "file_extension": ".py",
   "mimetype": "text/x-python",
   "name": "python",
   "nbconvert_exporter": "python",
   "pygments_lexer": "ipython3",
   "version": "3.10.4"
  },
  "orig_nbformat": 4
 },
 "nbformat": 4,
 "nbformat_minor": 2
}
