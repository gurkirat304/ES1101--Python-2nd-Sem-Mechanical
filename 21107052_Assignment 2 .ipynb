{
 "cells": [
  {
   "cell_type": "code",
   "execution_count": null,
   "metadata": {},
   "outputs": [],
   "source": [
    "#Q1         SID-21107052\n",
    "#Python program for coding on a string\n",
    "#assigning variable to the string\n",
    "word=\"Python is a case sensitive language\"\n",
    "\n",
    "#finding the no. of letters in the string\n",
    "print(\"length of word is : \", len(word) , end=\" letters  \\n\" )\n",
    "\n",
    "#reversing the order of string\n",
    "print(word[::-1])\n",
    "\n",
    "#storing part of string\n",
    "print(word[10::])\n",
    "\n",
    "#replacing the stored part by another str\n",
    "print(word.replace(\"a case sensitive\" , \"object oriented\"))\n",
    "\n",
    "#finding index of a substring\n",
    "print(word.find('a'))\n",
    "\n",
    "#removing the white spaces from string\n",
    "print(word.replace(\" \",\"\"))"
   ]
  },
  {
   "cell_type": "code",
   "execution_count": null,
   "metadata": {},
   "outputs": [],
   "source": [
    "#Q2         SID-21107052\n",
    "# python program for storing and printing name, sid , branch and cgpa\n",
    "#taking input from user about his/her details\n",
    "name=input(\"enter your name : \")\n",
    "sid=int(input(\"enter your SID : \"))\n",
    "branch=input(\"enter your department name : \")\n",
    "cgpa=float(input(\"enter your cgpa : \"))\n",
    "\n",
    "#printing those details in format given\n",
    "print(\"Hey,\" ,  name , \"Here !\")\n",
    "print(\"My SID is \" , sid)\n",
    "print( \"I am from\" , branch , \"department and my CGPA is\" , cgpa)"
   ]
  },
  {
   "cell_type": "code",
   "execution_count": null,
   "metadata": {},
   "outputs": [],
   "source": [
    "#Q3         SID-21107052\n",
    "# Python program for doing bitwise calculations on 2 given numbers\n",
    "#assigning value to given variables\n",
    "a=56\n",
    "b=10\n",
    "\n",
    "#printing the result using bitwise operators\n",
    "print(a&b)\n",
    "print(a|b)\n",
    "print(a^b)\n",
    "print(a<<2 , b<<2)\n",
    "print(a>>2 , b>>4)"
   ]
  },
  {
   "cell_type": "code",
   "execution_count": null,
   "metadata": {},
   "outputs": [],
   "source": [
    "#Q4         SID-21107052\n",
    "#python program for finding 'name' in string input\n",
    "# asking user for string input\n",
    "word=input(\"enter word : \")\n",
    "\n",
    "# fining 'name' in string and giving ouput as 'yes' or 'no' format using replace function\n",
    "d=str('name' in word).replace(\"True\" , \"Yes\").replace(\"False\" , \"No\")\n",
    "\n",
    "#printing output\n",
    "print(d,)"
   ]
  },
  {
   "cell_type": "code",
   "execution_count": null,
   "metadata": {},
   "outputs": [],
   "source": [
    "#Q5         SID-21107052\n",
    "#python program for checking if triangle can be formed from 3 sides whose lengths are user defined\n",
    "# taking input of length of sides frm user\n",
    "side1=int(input(\"length of first side :\"))\n",
    "side2=int(input(\"length of second side :\"))\n",
    "side3=int(input(\"length ofthird side :\"))\n",
    "\n",
    "# using the condition 'sum of 2 sides greater than 3rd side' to check feasibility\n",
    "test1=bool(side1<(side2+side3))\n",
    "test2=bool(side2<(side1+side3))\n",
    "test3=bool(side3<(side1+side2))\n",
    "\n",
    "# checking if all conitions are true or not and then giving output in 'yes' and 'no' format\n",
    "d = str(test1 and test2 and test3).replace(\"True\" , \"Yes\").replace(\"False\" , \"No\")\n",
    "\n",
    "#printing answer\n",
    "print(d)\n",
    "\n"
   ]
  },
  {
   "cell_type": "code",
   "execution_count": null,
   "metadata": {},
   "outputs": [],
   "source": [
    "#Q6         SID-21107052\n",
    "#python program for counting no. of bits to be flipped to convert one number to other\n",
    "#asing user for input of 2 numbers\n",
    "num1=int(input(\"enter 1st number : \"))\n",
    "num2=int(input(\"enter 2nd number : \"))\n",
    "\n",
    "#using XOR to find number of different bits \n",
    "c=num1^num2\n",
    "\n",
    "#we need to find total '1's in XOR and that will be required bits\n",
    "# converting it to a string\n",
    "d=str(bin(c))\n",
    "\n",
    "\n",
    "#assigning values to vairables required for loop\n",
    "occurences=0\n",
    "start=0\n",
    "\n",
    "# running loop where it finds 1\n",
    "for i in range(len(d)):\n",
    "\n",
    "# if j get a return value of -1 then 1 is absent at that index\n",
    "    j=d.find('1' , start)\n",
    "    if j !=-1:\n",
    "        \n",
    "        # when 1 is present it shifts to next index and total occurences of'1' is increased\n",
    "        start=j+1\n",
    "        occurences += 1\n",
    "\n",
    "#printing the two numbers in binary and their bits flipping answer\n",
    "print(\"1st number = \" , bin(num1))\n",
    "print(\"2nd number = \" , bin(num2))\n",
    "print(occurences , \"bits need to be flipped\")"
   ]
  }
 ],
 "metadata": {
  "interpreter": {
   "hash": "0b44e242197c6a2844b9e2906add9c1e17216ce449dc168fea4b25cc6aeb56ec"
  },
  "kernelspec": {
   "display_name": "Python 3.10.4 64-bit",
   "language": "python",
   "name": "python3"
  },
  "language_info": {
   "codemirror_mode": {
    "name": "ipython",
    "version": 3
   },
   "file_extension": ".py",
   "mimetype": "text/x-python",
   "name": "python",
   "nbconvert_exporter": "python",
   "pygments_lexer": "ipython3",
   "version": "3.10.4"
  },
  "orig_nbformat": 4
 },
 "nbformat": 4,
 "nbformat_minor": 2
}
