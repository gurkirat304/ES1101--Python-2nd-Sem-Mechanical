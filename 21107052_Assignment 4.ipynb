{
 "cells": [
  {
   "cell_type": "code",
   "execution_count": null,
   "metadata": {},
   "outputs": [],
   "source": [
    "#Q1         SID-21107052\n",
    "#python program for finding grade of student\n",
    "#asking student for marks\n",
    "marks=int(input(\"enter marks of student : \"))\n",
    "#using conditions to check in grade range of marks\n",
    "if marks<=80:\n",
    "    if marks<=60:\n",
    "        if marks<=50:\n",
    "            if marks<=45:\n",
    "                if marks<=25:\n",
    "                    print(\"grade is F\")\n",
    "                else: \n",
    "                    print(\"grade is E\")\n",
    "            else:\n",
    "                print(\"grade is D\")\n",
    "        else:\n",
    "            print(\"grade is C\")\n",
    "    else:\n",
    "        print(\"grade is B\")\n",
    "else:\n",
    "    print(\"grade is A\")"
   ]
  },
  {
   "cell_type": "code",
   "execution_count": null,
   "metadata": {},
   "outputs": [],
   "source": [
    "#Q2         SID-21107052\n",
    "#python program for checking leap year\n",
    "#asking user for input year\n",
    "a=int(input(\"enter the year : \"))\n",
    "#condition for checking if leap year or not according to conditions given\n",
    "if a%4==0:\n",
    "    if a%100==0:\n",
    "        if a%400==0:\n",
    "            print(a,\"is leap year\")\n",
    "        else: \n",
    "            print(a, \" is not a leap year\")\n",
    "    else:\n",
    "        print(a,\"is a leap year\")\n",
    "else:\n",
    "    print(a,\"is not a leap year\")"
   ]
  },
  {
   "cell_type": "code",
   "execution_count": null,
   "metadata": {},
   "outputs": [],
   "source": [
    "#Q3         SID-21107052\n",
    "#python program for creating mutiplication quiz\n",
    "#import random library \n",
    "import random\n",
    "\n",
    "#defining a function to check answer\n",
    "def main():\n",
    "  print(a ,\"*\" ,b , \"=\")\n",
    "  ans=int(input(\"answer\"))\n",
    "  if ans==(a*b):\n",
    "    print(\"Right\")\n",
    "  else:\n",
    "    print(\"wrong\")\n",
    "\n",
    "#using loop to create random questions then checking using function\n",
    "i=0\n",
    "while i<=10:\n",
    "  a=random.randint(1,10)\n",
    "  b=random.randint(1,10)\n",
    "  main()\n",
    "  i=1+i"
   ]
  },
  {
   "cell_type": "code",
   "execution_count": 9,
   "metadata": {},
   "outputs": [
    {
     "name": "stdout",
     "output_type": "stream",
     "text": [
      "no. of candies is :  177\n"
     ]
    }
   ],
   "source": [
    "#Q4         SID-21107052\n",
    "#python program for finding required candies\n",
    "#giving initial value for creating loop\n",
    "candies=0\n",
    "#using loop to check all numbers till 200\n",
    "while candies <= 200:\n",
    "    #using conditions given\n",
    "    if candies%5==2:\n",
    "        if candies%6==3:\n",
    "            if candies%7==2:\n",
    "                #printing the required number of candies\n",
    "                print(\"no. of candies is : \" , candies)\n",
    "                break\n",
    "            else:\n",
    "                candies= candies + 1\n",
    "        else:\n",
    "            candies= candies + 1\n",
    "    else:\n",
    "        candies= candies + 1\n"
   ]
  }
 ],
 "metadata": {
  "interpreter": {
   "hash": "593daa7300361d99a4bb3caf0bf9a29c84e63c8f3b18ab6b74fa7d573278eaab"
  },
  "kernelspec": {
   "display_name": "Python 3.10.4 64-bit",
   "language": "python",
   "name": "python3"
  },
  "language_info": {
   "codemirror_mode": {
    "name": "ipython",
    "version": 3
   },
   "file_extension": ".py",
   "mimetype": "text/x-python",
   "name": "python",
   "nbconvert_exporter": "python",
   "pygments_lexer": "ipython3",
   "version": "3.10.4"
  },
  "orig_nbformat": 4
 },
 "nbformat": 4,
 "nbformat_minor": 2
}
