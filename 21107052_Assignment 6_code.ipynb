{
 "cells": [
  {
   "cell_type": "code",
   "execution_count": null,
   "metadata": {},
   "outputs": [],
   "source": [
    "#Q1         SID-21107052\n",
    "#Python program for checking if input number is perfect or not\n",
    "def perfect(num):\n",
    "    sum=0\n",
    "    for i in range(1,num):\n",
    "        if num%i==0:\n",
    "            sum +=i\n",
    "    if sum==num:\n",
    "        print(\"it is perfect\")\n",
    "    else:\n",
    "        print(\"it is not perfect\")\n",
    "num=int(input(\"enter no. to be checked if perfect: \"))\n",
    "perfect(num)"
   ]
  },
  {
   "cell_type": "code",
   "execution_count": null,
   "metadata": {},
   "outputs": [],
   "source": [
    "#Q2         SID-21107052\n",
    "#Python program for checking if input word is palindrome or not\n",
    "def palindrome(word):\n",
    "    for i in range(0,len(word)):\n",
    "        if word[i]!=word[~i]:\n",
    "            print(\"it is not a palindrome\")\n",
    "            break\n",
    "    else:\n",
    "        print(\"it is apalindrome\")\n",
    "word=input(\"enter word to be checked: \")\n",
    "palindrome(word)"
   ]
  },
  {
   "cell_type": "code",
   "execution_count": null,
   "metadata": {},
   "outputs": [],
   "source": [
    "#Q3         SID-21107052\n",
    "#Python program for printing rows of pascal's triangle \n",
    "from math import factorial\n",
    "\n",
    "n=int(input(\"enter no. of rows to be printed\"))\n",
    "for i in range(n):\n",
    "    for j in range(n-1-i):\n",
    "        print(\" \", end=\"\")\n",
    "    for k in range (i+1):\n",
    "        print(factorial(i) // (factorial(i-k)*factorial(k)) , end=\" \") \n",
    "    print()"
   ]
  },
  {
   "cell_type": "code",
   "execution_count": 23,
   "metadata": {},
   "outputs": [],
   "source": [
    "#Q4         SID-21107052\n",
    "#Python program for checking if input sentence is panagram or not\n",
    "alphabet='abcdefghijklmnopqrstuvwxyz'\n",
    "def panagram(sentence):\n",
    "    for i in alphabet:\n",
    "        if i not in sentence:\n",
    "            print(\"it is not a panagram\")\n",
    "            break\n",
    "    else:\n",
    "        print(\"it is panagram\")\n",
    "sentence=input(\"enter the sentence to be check: \")\n",
    "panagram(sentence)"
   ]
  },
  {
   "cell_type": "code",
   "execution_count": null,
   "metadata": {},
   "outputs": [],
   "source": [
    "#Q5         SID-21107052\n",
    "#Python program for arranging words alphabetically\n",
    "def sorter(words):\n",
    "    words.sort()\n",
    "    print(*words)\n",
    "words=list(map(str,input(\"enter words to be sorted: \").split('-')))\n",
    "sorter(words)"
   ]
  },
  {
   "cell_type": "code",
   "execution_count": null,
   "metadata": {},
   "outputs": [],
   "source": [
    "#Q6         SID-21107052\n",
    "#Python program for printing id of student\n",
    "def student_data(student_id, **kwargs):\n",
    "    print('\\nStudent ID: ',student_id)\n",
    "    if 'student_name' in kwargs:\n",
    "        print(\"Student Name: \", kwargs['student_name'])\n",
    "    \n",
    "    if 'student_name' and 'student_class' in kwargs:\n",
    "            print(\"\\nStudent Name: \", kwargs['student_name'])\n",
    "            print(\"Student Class: \", kwargs['student_class'])\n",
    "\n",
    "student_data(student_id='21107052', student_name=' Gurkirat Singh')\n",
    "\n",
    "student_data(student_id='21107052', student_name='Gurkirat Singh', student_class ='Mechanical')"
   ]
  },
  {
   "cell_type": "code",
   "execution_count": null,
   "metadata": {},
   "outputs": [],
   "source": [
    "#Q7         SID-21107052\n",
    "#Python program for creating classes and check if given instances are part of these classes or not\n",
    "class Student:\n",
    "    pass \n",
    "class Marks:\n",
    "    pass \n",
    "student_ = Student()\n",
    "marks_ = Marks()\n",
    "print(isinstance(student_, Student))\n",
    "print(isinstance(marks_, Student))\n",
    "print(isinstance(marks_, Marks)) \n",
    "print(isinstance(student_, Marks))\n",
    "print(\"\\nCheck whether the said classes are subclasses of the built-in object class or not.\")\n",
    "print(issubclass(Student, object))\n",
    "print(issubclass(Marks, object))"
   ]
  },
  {
   "cell_type": "code",
   "execution_count": null,
   "metadata": {},
   "outputs": [],
   "source": [
    "#Q8         SID-21107052\n",
    "#Python program for finding 3 no.s in given list if their sum is 0\n",
    "class py_solution:\n",
    " def Sum(self, nums):\n",
    "        nums, result, i = sorted(nums), [], 0\n",
    "        while i < len(nums) - 2:\n",
    "            j, k = i + 1, len(nums) - 1\n",
    "            while j < k:\n",
    "                if nums[i] + nums[j] + nums[k] < 0:\n",
    "                    j += 1\n",
    "                elif nums[i] + nums[j] + nums[k] > 0:\n",
    "                    k -= 1\n",
    "                else:\n",
    "                    result.append([nums[i], nums[j], nums[k]])\n",
    "                    j, k = j + 1, k - 1\n",
    "                    while j < k and nums[j] == nums[j - 1]:\n",
    "                        j += 1\n",
    "                    while j < k and nums[k] == nums[k + 1]:\n",
    "                        k -= 1\n",
    "            i += 1\n",
    "            while i < len(nums) - 2 and nums[i] == nums[i - 1]:\n",
    "                i += 1\n",
    "        return result\n",
    "\n",
    "print(py_solution().Sum([-25, -10, -7, -3, 2, 4, 8, 10]))"
   ]
  },
  {
   "cell_type": "code",
   "execution_count": null,
   "metadata": {},
   "outputs": [],
   "source": [
    "#Q9         SID-21107052\n",
    "#Python program to check if input brackets are closed or not\n",
    "class parantheses:\n",
    "    def find(str):\n",
    "        a= ['()', '{}', '[]'] \n",
    "        while any(i in str for i in a):\n",
    "            for j in a:\n",
    "                str = str.replace(j, '') \n",
    "        return not str \n",
    "\n",
    "s = input(\"Enter the sequence of parantheses : \")\n",
    "if parantheses.find(s):\n",
    "    print(s,\"is balanced\",sep=\" - \")\n",
    "else:\n",
    "    print(s,\"is unbalanced\",sep=\" - \")\n"
   ]
  }
 ],
 "metadata": {
  "kernelspec": {
   "display_name": "Python 3.10.4 64-bit",
   "language": "python",
   "name": "python3"
  },
  "language_info": {
   "codemirror_mode": {
    "name": "ipython",
    "version": 3
   },
   "file_extension": ".py",
   "mimetype": "text/x-python",
   "name": "python",
   "nbconvert_exporter": "python",
   "pygments_lexer": "ipython3",
   "version": "3.10.4"
  },
  "orig_nbformat": 4,
  "vscode": {
   "interpreter": {
    "hash": "593daa7300361d99a4bb3caf0bf9a29c84e63c8f3b18ab6b74fa7d573278eaab"
   }
  }
 },
 "nbformat": 4,
 "nbformat_minor": 2
}
