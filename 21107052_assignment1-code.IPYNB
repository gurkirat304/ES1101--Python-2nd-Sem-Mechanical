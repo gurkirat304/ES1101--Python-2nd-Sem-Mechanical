{
 "cells": [
  {
   "cell_type": "code",
   "execution_count": 1,
   "metadata": {},
   "outputs": [
    {
     "name": "stdout",
     "output_type": "stream",
     "text": [
      "the average of 3 numbers is :  6.0\n"
     ]
    }
   ],
   "source": [
    "#Q1         SID(21107052)\n",
    "# Python program for finding average of three numbers\n",
    "# asking user for input of 3 numbers whose average needs to be calculated\n",
    "num1=int(input(\"enter the first number : \"))\n",
    "num2=int(input(\"enter the second number : \"))\n",
    "num3=int(input(\"enter the third number : \"))\n",
    "\n",
    "#then we calculate the average of these 3 numbers\n",
    "average=(num1 + num2 + num3)/3\n",
    "\n",
    "#printing the average and rounding to 2 deciaml places\n",
    "print(\"the average of 3 numbers is : \" , round(average , 2 ))\n"
   ]
  },
  {
   "cell_type": "code",
   "execution_count": 5,
   "metadata": {},
   "outputs": [
    {
     "name": "stdout",
     "output_type": "stream",
     "text": [
      "no tax to be paid\n"
     ]
    }
   ],
   "source": [
    "#Q2         SID(21107052)\n",
    "# python program for finding total tax to be paid by a family\n",
    "# first we ask user for their gross income\n",
    "income=int(input(\"what is your gross income? \"))\n",
    "#then we ask user for their family size including user\n",
    "size = int(input(\"what is the size of your family? \"))\n",
    "#then we calculate the amount on which tax is applicable\n",
    "taxamount = income-10000-((size-1)*3000)\n",
    "#then we find tax amount by multiplying by tax rate(20%)\n",
    "tax= taxamount*(20/100)\n",
    "# we need to use a condition to prevent printing of negative tax\n",
    "if tax >= 0 :\n",
    "    print(\"the total tax to be paid is : \" , tax , end='$')\n",
    "else:\n",
    "    print(\"no tax to be paid\")"
   ]
  },
  {
   "cell_type": "code",
   "execution_count": 4,
   "metadata": {},
   "outputs": [
    {
     "name": "stdout",
     "output_type": "stream",
     "text": [
      "55 seconds =  0 minutes and 55 seconds\n"
     ]
    }
   ],
   "source": [
    "#Q3         SID(21107052)\n",
    "# python program for converting seconds into minutes\n",
    "# we ask user for input of seconds to be converted\n",
    "initialtime=int(input(\" enter the number of seconds : \"))\n",
    "\n",
    "#we then divide that by 60 and take quotient and remainder using // and % operators\n",
    "mins=initialtime//60\n",
    "secs=initialtime%60\n",
    "\n",
    "#then we print the converted time\n",
    "print(initialtime , \"seconds = \" , mins , \"minutes and\" , secs , \"seconds\")\n"
   ]
  },
  {
   "cell_type": "code",
   "execution_count": 3,
   "metadata": {},
   "outputs": [
    {
     "name": "stdout",
     "output_type": "stream",
     "text": [
      "75\n",
      "<class 'str'>\n"
     ]
    }
   ],
   "source": [
    "#Q4         SID(21107052)\n",
    "# python program for data type conversion\n",
    "# we need to convert all those to integers to be able to add them\n",
    "a=int(25)\n",
    "b=int('25')\n",
    "c=int(25.0)\n",
    "\n",
    "# adding them and assigning them as string\n",
    "sum= str(a+b+c)\n",
    "\n",
    "# printing the sum and class which tells it is a string\n",
    "print(sum)\n",
    "print(type(sum))\n"
   ]
  },
  {
   "cell_type": "code",
   "execution_count": 2,
   "metadata": {},
   "outputs": [
    {
     "name": "stdout",
     "output_type": "stream",
     "text": [
      "0 --- 0.0 1.0\n",
      "15 --- 0.2588 0.9659\n",
      "30 --- 0.5 0.866\n",
      "45 --- 0.7071 0.7071\n",
      "60 --- 0.866 0.5\n",
      "75 --- 0.9659 0.2588\n",
      "90 --- 1.0 0.0\n",
      "105 --- 0.9659 -0.2588\n",
      "120 --- 0.866 -0.5\n",
      "135 --- 0.7071 -0.7071\n",
      "150 --- 0.5 -0.866\n",
      "165 --- 0.2588 -0.9659\n",
      "180 --- 0.0 -1.0\n",
      "195 --- -0.2588 -0.9659\n",
      "210 --- -0.5 -0.866\n",
      "225 --- -0.7071 -0.7071\n",
      "240 --- -0.866 -0.5\n",
      "255 --- -0.9659 -0.2588\n",
      "270 --- -1.0 -0.0\n",
      "285 --- -0.9659 0.2588\n",
      "300 --- -0.866 0.5\n",
      "315 --- -0.7071 0.7071\n",
      "330 --- -0.5 0.866\n",
      "345 --- -0.2588 0.9659\n"
     ]
    }
   ],
   "source": [
    "#Q5         SID(21107052)\n",
    "# python program for printing sines and cosines of angles from 0 to 345 degrees with increment of 15 degrees\n",
    "# first we need to import math library for using sin and cos functions\n",
    "import math\n",
    "\n",
    "# then we give initial value to angle variable\n",
    "angle=0\n",
    "\n",
    "# we start the loop for printing sin and cos of angle\n",
    "while angle<=345 :\n",
    "    #we print sin and cos of 1st angle ie. 0 degree by converting into radians and rounding to 4 decimal places\n",
    "    print(angle , \"---\" , round(math.sin((angle*math.pi)/180) , 4) , round(math.cos((angle*math.pi)/180) , 4))\n",
    "    \n",
    "    #now we increment the angle by 15 degrees\n",
    "    angle=angle+15\n"
   ]
  }
 ],
 "metadata": {
  "interpreter": {
   "hash": "0b44e242197c6a2844b9e2906add9c1e17216ce449dc168fea4b25cc6aeb56ec"
  },
  "kernelspec": {
   "display_name": "Python 3.10.4 64-bit",
   "language": "python",
   "name": "python3"
  },
  "language_info": {
   "codemirror_mode": {
    "name": "ipython",
    "version": 3
   },
   "file_extension": ".py",
   "mimetype": "text/x-python",
   "name": "python",
   "nbconvert_exporter": "python",
   "pygments_lexer": "ipython3",
   "version": "3.10.4"
  },
  "orig_nbformat": 4
 },
 "nbformat": 4,
 "nbformat_minor": 2
}
